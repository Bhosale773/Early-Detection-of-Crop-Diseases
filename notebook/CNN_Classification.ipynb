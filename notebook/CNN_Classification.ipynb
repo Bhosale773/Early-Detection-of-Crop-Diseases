{
  "nbformat": 4,
  "nbformat_minor": 0,
  "metadata": {
    "colab": {
      "name": "CNN_Classification.ipynb",
      "provenance": [],
      "collapsed_sections": []
    },
    "kernelspec": {
      "name": "python3",
      "display_name": "Python 3"
    },
    "accelerator": "GPU"
  },
  "cells": [
    {
      "cell_type": "code",
      "metadata": {
        "id": "_aKRF-HRb-V4",
        "colab": {
          "base_uri": "https://localhost:8080/"
        },
        "outputId": "9bb1beda-6ea7-4759-ef0e-4e3935791e5a"
      },
      "source": [
        "import os\r\n",
        "import numpy as np\r\n",
        "import pandas as pd\r\n",
        "import matplotlib.pyplot as plt\r\n",
        "import cv2\r\n",
        "import PIL\r\n",
        "import tensorflow as tf\r\n",
        "from tensorflow.python import keras\r\n",
        "import warnings \r\n",
        "import argparse\r\n",
        "warnings.filterwarnings('ignore')\r\n",
        "from tensorflow.python.keras.preprocessing.image import ImageDataGenerator, img_to_array, load_img\r\n",
        "from sklearn.preprocessing import LabelBinarizer, StandardScaler\r\n",
        "from sklearn.model_selection import train_test_split\r\n",
        "from tensorflow.keras.utils import to_categorical\r\n",
        "from keras import Input, Model\r\n",
        "from keras.applications import MobileNet\r\n",
        "from keras.layers.core import Flatten, Dense,Dropout\r\n",
        "from keras.layers import GlobalAveragePooling2D\r\n",
        "from keras.layers.normalization import BatchNormalization\r\n",
        "from keras.callbacks import EarlyStopping, ModelCheckpoint, ReduceLROnPlateau\r\n",
        "from keras.models import Model, model_from_json\r\n",
        "from keras.optimizers import Adam\r\n",
        "from sklearn.metrics import classification_report, roc_auc_score\r\n",
        "import numpy\r\n",
        "import sklearn.metrics as metrics\r\n",
        "\r\n",
        "cropName=\"All_Crops\"\r\n",
        "basepath=\"/content/drive/MyDrive/Colab_Notebooks/Early_Detection_Of_Crop_Diseases\"\r\n",
        "# set base directory\r\n",
        "base_dir = basepath+'/dataset/'+cropName\r\n",
        "print(os.listdir(base_dir))\r\n",
        "print(len(os.listdir(os.path.join(base_dir, 'train'))))\r\n",
        "\r\n",
        "# Data Augmentation transformations for the train dataset\r\n",
        "train_datagen = ImageDataGenerator(rescale=1./255,shear_range=0.2,zoom_range=0.2,width_shift_range=0.2,height_shift_range=0.2,fill_mode='nearest')\r\n",
        "\r\n",
        "# Data augmentation for validation dataset\r\n",
        "validation_datagen = ImageDataGenerator(rescale = 1./255)\r\n",
        "\r\n",
        "# Data augmentation for testing dataset\r\n",
        "# testing_datagen = ImageDataGenerator(rescale = 1./255)\r\n",
        "\r\n",
        "# Loading the images from their directories\r\n",
        "BATCH_SIZE = 32\r\n",
        "train_set_from_dir = train_datagen.flow_from_directory(os.path.join(base_dir, 'train'),target_size = (224,224),batch_size = BATCH_SIZE,class_mode = 'categorical')\r\n",
        "validation_set_from_dir = validation_datagen.flow_from_directory(os.path.join(base_dir, 'test'),target_size = (224,224),batch_size = BATCH_SIZE,class_mode = 'categorical')\r\n",
        "# testing_set_from_dir = testing_datagen.flow_from_directory(os.path.join(base_dir, 'test'),target_size = (224,224),batch_size = BATCH_SIZE,class_mode = 'categorical')\r\n",
        "\r\n",
        "# dictionary of classes\r\n",
        "classes_dict = train_set_from_dir.class_indices\r\n",
        "\r\n",
        "# storing classes dict in json file\r\n",
        "import json\r\n",
        "if not os.path.isdir(basepath+'/Results/'+cropName):\r\n",
        "    os.mkdir(basepath+'/Results/'+cropName)\r\n",
        "with open(basepath+'/Results/'+cropName+'/class_indices.json','w') as f:\r\n",
        "    json.dump(classes_dict, f)"
      ],
      "execution_count": 1,
      "outputs": [
        {
          "output_type": "stream",
          "text": [
            "['test', 'train']\n",
            "38\n",
            "Found 43461 images belonging to 38 classes.\n",
            "Found 10857 images belonging to 38 classes.\n"
          ],
          "name": "stdout"
        }
      ]
    },
    {
      "cell_type": "code",
      "metadata": {
        "id": "Ex0orXt5c6s0",
        "colab": {
          "base_uri": "https://localhost:8080/"
        },
        "outputId": "80fe3894-3256-455f-93d0-deacd387f3dc"
      },
      "source": [
        "# Transfer learning with MobileNet architecture\r\n",
        "base_model = MobileNet(weights=\"imagenet\",input_shape=(224, 224, 3),include_top=False)\r\n",
        "# print(base_model.summary())\r\n",
        "head_model = base_model.output\r\n",
        "head_model = GlobalAveragePooling2D()(head_model)\r\n",
        "head_model = Dropout(0.2)(head_model)\r\n",
        "outputs = Dense(38, activation=\"softmax\")(head_model)\r\n",
        "mobilenet_model = Model(base_model.input, outputs, name='pretrained_mobilenet' )\r\n",
        "for layer in mobilenet_model.layers:\r\n",
        "    layer.trainable = False\r\n",
        "for layer in base_model.layers[:20]:\r\n",
        "    layer.trainable=False\r\n",
        "for layer in base_model.layers[20:]:\r\n",
        "    layer.trainable=True\r\n",
        "    \r\n",
        "# Compiling the model with the optimizer and loss function \r\n",
        "mobilenet_model.compile(optimizer = Adam(),loss = 'categorical_crossentropy',metrics = ['accuracy'])\r\n",
        "# print(mobilenet_model.summary())\r\n",
        "# for idx, layer in enumerate(mobilenet_model.layers):\r\n",
        "#     print(idx, layer.name, layer.trainable)\r\n",
        "print(\"Done\")"
      ],
      "execution_count": 2,
      "outputs": [
        {
          "output_type": "stream",
          "text": [
            "Downloading data from https://storage.googleapis.com/tensorflow/keras-applications/mobilenet/mobilenet_1_0_224_tf_no_top.h5\n",
            "17227776/17225924 [==============================] - 1s 0us/step\n",
            "Done\n"
          ],
          "name": "stdout"
        }
      ]
    },
    {
      "cell_type": "code",
      "metadata": {
        "id": "QNtFWelvdC5I",
        "colab": {
          "base_uri": "https://localhost:8080/"
        },
        "outputId": "e21bea9e-b583-493a-8208-75e5cc19408f"
      },
      "source": [
        "# Setting up callbacks for our model\n",
        "if not os.path.isdir(basepath+'/Results/'+cropName+'/checkpoints'):\n",
        "    os.mkdir(basepath+'/Results/'+cropName+'/checkpoints')\n",
        "callbacks = [ModelCheckpoint(basepath+'/Results/'+cropName+'/checkpoints/mobilenet_plantdiseases.h5', save_best_only=True, monitor='val_accuracy'),EarlyStopping(monitor='val_loss', patience=2, verbose=1),ReduceLROnPlateau(factor=0.1, patience=10, min_lr=0.00001, verbose=1)]\n",
        "N_EPOCHS = 10\n",
        "history = mobilenet_model.fit(train_set_from_dir,\n",
        "          validation_data = validation_set_from_dir,\n",
        "          epochs = N_EPOCHS,\n",
        "          # Use 256 random batches for training set \n",
        "          steps_per_epoch = 256, # 256 x 32 random samples\n",
        "          # Use 64 random batches for training validation set\n",
        "          validation_steps = 200, # 200 x 32 random samples \n",
        "          callbacks = callbacks\n",
        ")"
      ],
      "execution_count": 3,
      "outputs": [
        {
          "output_type": "stream",
          "text": [
            "Epoch 1/10\n",
            "256/256 [==============================] - 6986s 27s/step - loss: 1.0341 - accuracy: 0.7341 - val_loss: 1.1799 - val_accuracy: 0.6931\n",
            "Epoch 2/10\n",
            "256/256 [==============================] - 4502s 18s/step - loss: 0.2897 - accuracy: 0.9138 - val_loss: 0.2860 - val_accuracy: 0.9095\n",
            "Epoch 3/10\n",
            "256/256 [==============================] - 3203s 13s/step - loss: 0.2207 - accuracy: 0.9322 - val_loss: 0.4487 - val_accuracy: 0.8816\n",
            "Epoch 4/10\n",
            "256/256 [==============================] - 2432s 9s/step - loss: 0.1333 - accuracy: 0.9581 - val_loss: 0.3780 - val_accuracy: 0.8972\n",
            "Epoch 00004: early stopping\n"
          ],
          "name": "stdout"
        }
      ]
    },
    {
      "cell_type": "code",
      "metadata": {
        "id": "lQwHR75gdGvl",
        "colab": {
          "base_uri": "https://localhost:8080/",
          "height": 320
        },
        "outputId": "afbc666e-f5c0-4097-c00a-6766a354f76b"
      },
      "source": [
        "# plot performance graph\r\n",
        "n = 4\r\n",
        "plt.figure(figsize = (8,5))\r\n",
        "plt.plot(np.arange(1,n+1), history.history['loss'], label = 'train_loss')\r\n",
        "plt.plot(np.arange(1,n+1), history.history['val_loss'], label = 'val_loss')\r\n",
        "plt.plot(np.arange(1,n+1), history.history['accuracy'], label = 'train_accuracy')\r\n",
        "plt.plot(np.arange(1,n+1), history.history['val_accuracy'], label = 'val_accuracy')\r\n",
        "plt.grid(True)\r\n",
        "plt.legend(loc = \"best\")\r\n",
        "plt.savefig(basepath+'/Results/'+cropName+'/performance.jpg')\r\n",
        "plt.show()"
      ],
      "execution_count": 4,
      "outputs": [
        {
          "output_type": "display_data",
          "data": {
            "image/png": "[encoded data removed]",
            "text/plain": [
              "<Figure size 576x360 with 1 Axes>"
            ]
          },
          "metadata": {
            "tags": [],
            "needs_background": "light"
          }
        }
      ]
    },
    {
      "cell_type": "code",
      "metadata": {
        "id": "1PxLvCWmdJir",
        "colab": {
          "base_uri": "https://localhost:8080/"
        },
        "outputId": "de4fa865-29f0-4049-8a7c-c305eb9f1e8d"
      },
      "source": [
        "# Evaluate the model on the validation dataset\n",
        "results = mobilenet_model.evaluate(validation_set_from_dir)\n",
        "print(\"Loss:\", results[0])\n",
        "print(\"Accuracy:\", results[1])\n",
        "print(results)"
      ],
      "execution_count": 5,
      "outputs": [
        {
          "output_type": "stream",
          "text": [
            "340/340 [==============================] - 190s 561ms/step - loss: 0.3805 - accuracy: 0.8975\n",
            "Loss: 0.3805152475833893\n",
            "Accuracy: 0.8974854946136475\n",
            "[0.3805152475833893, 0.8974854946136475]\n"
          ],
          "name": "stdout"
        }
      ]
    },
    {
      "cell_type": "code",
      "metadata": {
        "colab": {
          "base_uri": "https://localhost:8080/"
        },
        "id": "T0ypiWFMrPSv",
        "outputId": "39f630a5-eaa3-49ae-bbc2-083c1c19c27f"
      },
      "source": [
        "# # Testing on a random image from the test images directory\r\n",
        "from PIL import Image\r\n",
        "test1 = Image.open(\"/content/drive/MyDrive/Colab_Notebooks/Early_Detection_Of_Crop_Diseases/dataset/All_Crops/test/Corn_(maize)___Cercospora_leaf_spot Gray_leaf_spot/0a01cc10-3892-4311-9c48-0ac6ab3c7c43___RS_GLSp 9352.JPG\")\r\n",
        "test1 = test1.resize((224,224))\r\n",
        "test1_scaled = np.expand_dims(np.asarray(test1), axis = 0) / 255\r\n",
        "predictions = mobilenet_model.predict(test1_scaled)\r\n",
        "print(predictions)\r\n",
        "classes_dict = train_set_from_dir.class_indices\r\n",
        "classes_dict = { v:k for (k,v) in classes_dict.items() }\r\n",
        "print(\"Disease: \"+classes_dict[np.argmax(predictions)])"
      ],
      "execution_count": 11,
      "outputs": [
        {
          "output_type": "stream",
          "text": [
            "[[6.66405598e-04 4.93915868e-04 5.47046482e-04 1.34531455e-03\n",
            "  3.57063524e-02 4.89848142e-04 8.59954208e-03 7.42013693e-01\n",
            "  2.33879518e-02 6.83550090e-02 5.11985272e-02 1.07205729e-03\n",
            "  1.52175524e-03 2.62830545e-05 4.60701878e-04 1.50704145e-04\n",
            "  5.40333203e-05 8.31003184e-04 7.86985562e-04 3.25671141e-03\n",
            "  5.38356835e-04 5.89804695e-05 3.20140942e-04 1.97494356e-03\n",
            "  2.76212158e-05 1.17472429e-02 1.69781235e-03 6.78348541e-03\n",
            "  2.50810245e-03 1.04488114e-04 4.09364840e-03 4.13841428e-03\n",
            "  2.29966175e-03 2.14303518e-03 5.50884986e-04 1.62677537e-03\n",
            "  1.30295530e-02 5.39304642e-03]]\n",
            "Disease: Corn_(maize)___Cercospora_leaf_spot Gray_leaf_spot\n"
          ],
          "name": "stdout"
        }
      ]
    },
    {
      "cell_type": "code",
      "metadata": {
        "id": "sD7f3pnVdRs3"
      },
      "source": [
        "# save the model\r\n",
        "mobilenet_model.save(basepath+'/Results/'+cropName+'/mobilenet_model.h5')"
      ],
      "execution_count": 9,
      "outputs": []
    }
  ]
}